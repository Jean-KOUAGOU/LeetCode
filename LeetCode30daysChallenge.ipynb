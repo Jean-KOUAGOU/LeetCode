{
 "cells": [
  {
   "cell_type": "markdown",
   "metadata": {},
   "source": [
    "## Single Number"
   ]
  },
  {
   "cell_type": "code",
   "execution_count": 97,
   "metadata": {},
   "outputs": [],
   "source": [
    "from collections import defaultdict\n",
    "import numpy as np\n",
    "def singleNumber(nums: list) -> int:\n",
    "    d = defaultdict(lambda:0)\n",
    "    for n in nums:\n",
    "        d[n] += 1\n",
    "    for key in d:\n",
    "        if d[key] == 1:\n",
    "            return key"
   ]
  },
  {
   "cell_type": "code",
   "execution_count": 98,
   "metadata": {},
   "outputs": [
    {
     "data": {
      "text/plain": [
       "4"
      ]
     },
     "execution_count": 98,
     "metadata": {},
     "output_type": "execute_result"
    }
   ],
   "source": [
    "singleNumber([2,4,2,5,5])"
   ]
  },
  {
   "cell_type": "markdown",
   "metadata": {},
   "source": [
    "## HappyNumber"
   ]
  },
  {
   "cell_type": "code",
   "execution_count": 99,
   "metadata": {},
   "outputs": [],
   "source": [
    "def HappyNum(n):\n",
    "    Cycle = []\n",
    "    while n not in Cycle:\n",
    "        Cycle.append(n)\n",
    "        n = sum(map(lambda x: int(x)**2, str(n)))\n",
    "        if n == 1:\n",
    "            return True\n",
    "    return False"
   ]
  },
  {
   "cell_type": "code",
   "execution_count": 100,
   "metadata": {},
   "outputs": [
    {
     "data": {
      "text/plain": [
       "True"
      ]
     },
     "execution_count": 100,
     "metadata": {},
     "output_type": "execute_result"
    }
   ],
   "source": [
    "HappyNum(19)"
   ]
  },
  {
   "cell_type": "markdown",
   "metadata": {},
   "source": [
    "## Contingous subarray with maximum sum"
   ]
  },
  {
   "cell_type": "code",
   "execution_count": 101,
   "metadata": {},
   "outputs": [],
   "source": [
    "def maxSubArray(L):\n",
    "    loc = 0\n",
    "    best_so_far = 0\n",
    "    final_best = L[0]\n",
    "    while True:\n",
    "        best_so_far += L[loc]\n",
    "        final_best = max(final_best, best_so_far)\n",
    "        if loc < len(L)-1:\n",
    "            loc += 1\n",
    "        else:\n",
    "            break\n",
    "        if best_so_far < L[loc] and best_so_far<0:\n",
    "            best_so_far = 0       \n",
    "    return final_best"
   ]
  },
  {
   "cell_type": "code",
   "execution_count": 102,
   "metadata": {},
   "outputs": [
    {
     "data": {
      "text/plain": [
       "9"
      ]
     },
     "execution_count": 102,
     "metadata": {},
     "output_type": "execute_result"
    }
   ],
   "source": [
    "maxSubArray([-3,2,7,-4,2])"
   ]
  },
  {
   "cell_type": "markdown",
   "metadata": {},
   "source": [
    "## Move all zeros to the right"
   ]
  },
  {
   "cell_type": "code",
   "execution_count": 103,
   "metadata": {},
   "outputs": [],
   "source": [
    "def moveZeroes(L):\n",
    "    L [:] = list(filter(lambda x: x != 0, L)) + [0]*sum(map(lambda x: x == 0, L))"
   ]
  },
  {
   "cell_type": "code",
   "execution_count": 104,
   "metadata": {},
   "outputs": [
    {
     "data": {
      "text/plain": [
       "[1, 2, 4, 4, 0, 0, 0, 0]"
      ]
     },
     "execution_count": 104,
     "metadata": {},
     "output_type": "execute_result"
    }
   ],
   "source": [
    "L=[0,0,1,2,4,0,4,0]\n",
    "moveZeroes(L)\n",
    "L"
   ]
  },
  {
   "cell_type": "markdown",
   "metadata": {},
   "source": [
    "## Best time to buy and sell shares"
   ]
  },
  {
   "cell_type": "code",
   "execution_count": 105,
   "metadata": {},
   "outputs": [],
   "source": [
    "def maxProfit(L):\n",
    "    min_buy = 0\n",
    "    profit = 0\n",
    "    for i in range(0, len(L)-1):\n",
    "        if L[i] < L[min_buy]: min_buy = i\n",
    "        if L[i+1] > L[i]: profit += L[i+1]-L[i]\n",
    "        profit = max(profit, L[i]-L[min_buy])\n",
    "    return profit      "
   ]
  },
  {
   "cell_type": "code",
   "execution_count": 89,
   "metadata": {},
   "outputs": [],
   "source": [
    "L = [76,5,1,9]"
   ]
  },
  {
   "cell_type": "code",
   "execution_count": 90,
   "metadata": {},
   "outputs": [
    {
     "data": {
      "text/plain": [
       "8"
      ]
     },
     "execution_count": 90,
     "metadata": {},
     "output_type": "execute_result"
    }
   ],
   "source": [
    "maxProfit(L)"
   ]
  },
  {
   "cell_type": "markdown",
   "metadata": {},
   "source": [
    "## Group Anagrams"
   ]
  },
  {
   "cell_type": "code",
   "execution_count": 180,
   "metadata": {},
   "outputs": [],
   "source": [
    "def AnagramGroups(L):\n",
    "    d = defaultdict(lambda: [])\n",
    "    for gram in L:\n",
    "        d[str(sorted(gram))].append(gram)\n",
    "    return list(d.values())"
   ]
  },
  {
   "cell_type": "code",
   "execution_count": 181,
   "metadata": {},
   "outputs": [],
   "source": [
    "L = ['deb', 'bed', 'eat', 'tea','kill']"
   ]
  },
  {
   "cell_type": "code",
   "execution_count": 182,
   "metadata": {},
   "outputs": [
    {
     "data": {
      "text/plain": [
       "[['deb', 'bed'], ['eat', 'tea'], ['kill']]"
      ]
     },
     "execution_count": 182,
     "metadata": {},
     "output_type": "execute_result"
    }
   ],
   "source": [
    "AnagramGroups(L)"
   ]
  },
  {
   "cell_type": "markdown",
   "metadata": {},
   "source": [
    "## Counting elements"
   ]
  },
  {
   "cell_type": "code",
   "execution_count": 1,
   "metadata": {},
   "outputs": [],
   "source": [
    "def countElements(L):\n",
    "    return sum([n+1 in L for n in L])"
   ]
  },
  {
   "cell_type": "code",
   "execution_count": 2,
   "metadata": {},
   "outputs": [
    {
     "data": {
      "text/plain": [
       "3"
      ]
     },
     "execution_count": 2,
     "metadata": {},
     "output_type": "execute_result"
    }
   ],
   "source": [
    "countElements([3,2,1,4])"
   ]
  },
  {
   "cell_type": "markdown",
   "metadata": {},
   "source": [
    "## Middle of a linked list"
   ]
  },
  {
   "cell_type": "code",
   "execution_count": 4,
   "metadata": {},
   "outputs": [],
   "source": [
    " class ListNode:\n",
    "    def __init__(self, x):\n",
    "        self.val = x\n",
    "        self.next = None"
   ]
  },
  {
   "cell_type": "code",
   "execution_count": 5,
   "metadata": {},
   "outputs": [],
   "source": [
    "def middleNode(head):\n",
    "        current_ll = head\n",
    "        answer = head\n",
    "        while current_ll and current_ll.next:\n",
    "            current_ll = current_ll.next.next\n",
    "            answer = answer.next\n",
    "        return answer"
   ]
  },
  {
   "cell_type": "code",
   "execution_count": 11,
   "metadata": {},
   "outputs": [],
   "source": [
    "Ll = ListNode(1)\n",
    "current = Ll\n",
    "for i in range(2,10):\n",
    "    while current.next:\n",
    "        current = current.next\n",
    "    current.next = ListNode(i)"
   ]
  },
  {
   "cell_type": "code",
   "execution_count": 13,
   "metadata": {},
   "outputs": [
    {
     "data": {
      "text/plain": [
       "5"
      ]
     },
     "execution_count": 13,
     "metadata": {},
     "output_type": "execute_result"
    }
   ],
   "source": [
    "middleNode(Ll).val"
   ]
  },
  {
   "cell_type": "markdown",
   "metadata": {},
   "source": [
    "## Backspace String Compare"
   ]
  },
  {
   "cell_type": "code",
   "execution_count": 414,
   "metadata": {},
   "outputs": [],
   "source": [
    "def backspace(S,T):\n",
    "    s = ''\n",
    "    t = ''\n",
    "    idx1 = len(S)-1\n",
    "    idx2 = len(T)-1\n",
    "    c1 = 0\n",
    "    c2 = 0\n",
    "    while idx1 > 0 or idx2 > 0:\n",
    "        while idx1 > 0 and S[idx1] == '#':\n",
    "            c1 += 1\n",
    "            idx1 = idx1-1\n",
    "        while idx1 > 0 and S[idx1] != '#':\n",
    "            if c1 == 0:\n",
    "                s += S[idx1]\n",
    "            if c1 > 0:\n",
    "                c1 -= 1\n",
    "            idx1 -= 1\n",
    "        while idx2 > 0 and T[idx2] == '#':\n",
    "            c2 += 1\n",
    "            idx2 = idx2-1\n",
    "        while idx2 > 0 and T[idx2] != '#':\n",
    "            if c2 == 0:\n",
    "                t += T[idx2]\n",
    "            if c2 > 0:\n",
    "                c2 -= 1\n",
    "            idx2 -= 1\n",
    "    if c1 == 0 and S[0] != '#':\n",
    "        s += S[0]\n",
    "    if c2 == 0 and T[0] != '#':\n",
    "        t += T[0]\n",
    "        \n",
    "    print(s[::-1])\n",
    "    print(t[::-1])\n",
    "    return s == t"
   ]
  },
  {
   "cell_type": "code",
   "execution_count": 415,
   "metadata": {},
   "outputs": [],
   "source": [
    "S = \"y#fo##f\"\n",
    "T = \"y#fx#o##f\""
   ]
  },
  {
   "cell_type": "code",
   "execution_count": 416,
   "metadata": {},
   "outputs": [
    {
     "name": "stdout",
     "output_type": "stream",
     "text": [
      "f\n",
      "f\n"
     ]
    },
    {
     "data": {
      "text/plain": [
       "True"
      ]
     },
     "execution_count": 416,
     "metadata": {},
     "output_type": "execute_result"
    }
   ],
   "source": [
    "backspace(S,T)"
   ]
  },
  {
   "cell_type": "markdown",
   "metadata": {},
   "source": [
    "## Min Stack"
   ]
  },
  {
   "cell_type": "code",
   "execution_count": 1,
   "metadata": {},
   "outputs": [],
   "source": [
    "class MinStack:\n",
    "\n",
    "    def __init__(self):\n",
    "        \"\"\"\n",
    "        initialize your data structure here.\n",
    "        \"\"\"\n",
    "        self.data = []\n",
    "\n",
    "    def push(self, x: int) -> None:\n",
    "        self.data.append(x)\n",
    "        \n",
    "\n",
    "    def pop(self) -> None:\n",
    "        self.data.pop(-1)\n",
    "        \n",
    "\n",
    "    def top(self) -> int:\n",
    "        return self.data[-1]\n",
    "        \n",
    "\n",
    "    def getMin(self) -> int:\n",
    "        return min(self.data)\n",
    "        "
   ]
  },
  {
   "cell_type": "code",
   "execution_count": 9,
   "metadata": {},
   "outputs": [],
   "source": [
    "Obj = MinStack()"
   ]
  },
  {
   "cell_type": "code",
   "execution_count": 12,
   "metadata": {},
   "outputs": [
    {
     "data": {
      "text/plain": [
       "-7"
      ]
     },
     "execution_count": 12,
     "metadata": {},
     "output_type": "execute_result"
    }
   ],
   "source": [
    "for j in [-3,2,1,9.7,3,9,-7]:\n",
    "    Obj.push(j)\n",
    "Obj.getMin()\n",
    "Obj.top()"
   ]
  },
  {
   "cell_type": "code",
   "execution_count": 13,
   "metadata": {},
   "outputs": [
    {
     "data": {
      "text/plain": [
       "9"
      ]
     },
     "execution_count": 13,
     "metadata": {},
     "output_type": "execute_result"
    }
   ],
   "source": [
    "Obj.pop()\n",
    "Obj.top()"
   ]
  },
  {
   "cell_type": "markdown",
   "metadata": {},
   "source": [
    "## Diameter of a binary tree"
   ]
  },
  {
   "cell_type": "code",
   "execution_count": 14,
   "metadata": {},
   "outputs": [],
   "source": [
    "class TreeNode:\n",
    "    def __init__(self, x):\n",
    "        self.val = x\n",
    "        self.left = None\n",
    "        self.right = None"
   ]
  },
  {
   "cell_type": "code",
   "execution_count": 24,
   "metadata": {},
   "outputs": [],
   "source": [
    "Root = TreeNode(0)"
   ]
  },
  {
   "cell_type": "code",
   "execution_count": 25,
   "metadata": {},
   "outputs": [],
   "source": [
    "Left = [1,2,3,4,5,6,7]\n",
    "Right = [-1,-2,-3,-4,-5,-6,-7]"
   ]
  },
  {
   "cell_type": "code",
   "execution_count": null,
   "metadata": {},
   "outputs": [],
   "source": []
  },
  {
   "cell_type": "code",
   "execution_count": 49,
   "metadata": {},
   "outputs": [],
   "source": [
    "l = 0\n",
    "Queue = [Root]\n",
    "queue = []\n",
    "while l < len(Left):\n",
    "    while Queue:\n",
    "        p = Queue.pop(-1)\n",
    "        p.left, p.right = TreeNode(Left[l]), TreeNode(Right[l])\n",
    "        queue.extend([p.left, p.right])\n",
    "        l += 1\n",
    "        if l >= len(Left):\n",
    "            break\n",
    "    Queue.extend(queue)    "
   ]
  },
  {
   "cell_type": "code",
   "execution_count": 59,
   "metadata": {},
   "outputs": [],
   "source": [
    "def diameterOfBinaryTree(Root):\n",
    "    def height(node):\n",
    "        if not node:\n",
    "            return 0\n",
    "        return 1 + max(height(node.left), height(node.right))\n",
    "    if not Root:\n",
    "        return 0\n",
    "    return max(height(Root.left)+height(Root.right), max(diameterOfBinaryTree(Root.left), diameterOfBinaryTree(Root.right)))"
   ]
  },
  {
   "cell_type": "code",
   "execution_count": 60,
   "metadata": {},
   "outputs": [],
   "source": [
    "Root.right.left.left.right = TreeNode(-8)"
   ]
  },
  {
   "cell_type": "code",
   "execution_count": 61,
   "metadata": {},
   "outputs": [
    {
     "data": {
      "text/plain": [
       "7"
      ]
     },
     "execution_count": 61,
     "metadata": {},
     "output_type": "execute_result"
    }
   ],
   "source": [
    "diameterOfBinaryTree(Root)"
   ]
  },
  {
   "cell_type": "markdown",
   "metadata": {},
   "source": [
    "## Last stone weight"
   ]
  },
  {
   "cell_type": "code",
   "execution_count": 29,
   "metadata": {},
   "outputs": [],
   "source": [
    "def lastStoneWeight(stones) -> int:\n",
    "    if not stones[1:]:\n",
    "        return stones[0]\n",
    "    stones = sorted(stones)\n",
    "    while stones[1:]:\n",
    "        s1 = stones.pop(-1)\n",
    "        s2 = stones.pop(-1)\n",
    "        if s1 != s2:\n",
    "            id = 0\n",
    "            while id < len(stones) and stones[id] < s1-s2:\n",
    "                id += 1\n",
    "            stones.insert(id, s1-s2)\n",
    "    return stones[0] if stones else 0"
   ]
  },
  {
   "cell_type": "code",
   "execution_count": 131,
   "metadata": {},
   "outputs": [],
   "source": [
    "L = [3,2,8,2,7,1]"
   ]
  },
  {
   "cell_type": "code",
   "execution_count": 34,
   "metadata": {},
   "outputs": [
    {
     "data": {
      "text/plain": [
       "1"
      ]
     },
     "execution_count": 34,
     "metadata": {},
     "output_type": "execute_result"
    }
   ],
   "source": [
    "lastStoneWeight(L)"
   ]
  },
  {
   "cell_type": "markdown",
   "metadata": {},
   "source": [
    "## Maximum contiguous subarray length with equal number of 0's and 1's"
   ]
  },
  {
   "cell_type": "code",
   "execution_count": 274,
   "metadata": {},
   "outputs": [],
   "source": [
    "def findMaxLength(nums) -> int:\n",
    "    d = {}   \n",
    "    curr_sum = 0 \n",
    "    max_len = 0 \n",
    "    for i in range (len(nums)):  \n",
    "        curr_sum = curr_sum + 1 if nums[i] == 1 else curr_sum - 1 \n",
    "        if curr_sum == 0:\n",
    "                max_len = i+1\n",
    "        if curr_sum in d: \n",
    "            max_len = max(max_len, i - d[curr_sum])\n",
    "        else:\n",
    "            d[curr_sum] = i   \n",
    "    return max_len\n",
    "            "
   ]
  },
  {
   "cell_type": "code",
   "execution_count": 275,
   "metadata": {},
   "outputs": [],
   "source": [
    "L = [0,1,0,1,1,1,0,0,1,1,0,1,1,1,1,1,1,0,1,1,0,1,1,0,0,0,1,0,1,0,0,1,0,1,1,1,1,1,1,0,0,0,0,1,0,0,0,1,1,1,0,1,0,0,1,1,1,1,1,0,0,1,1,1,1,0,0,1,0,1,1,0,0,0,0,0,0,1,0,1,0,1,1,0,0,1,1,0,1,1,1,1,0,1,1,0,0,0,1,1]"
   ]
  },
  {
   "cell_type": "code",
   "execution_count": 276,
   "metadata": {},
   "outputs": [
    {
     "data": {
      "text/plain": [
       "68"
      ]
     },
     "execution_count": 276,
     "metadata": {},
     "output_type": "execute_result"
    }
   ],
   "source": [
    "findMaxLength(L)"
   ]
  },
  {
   "cell_type": "markdown",
   "metadata": {},
   "source": [
    "## Performing string shifts"
   ]
  },
  {
   "cell_type": "code",
   "execution_count": 309,
   "metadata": {},
   "outputs": [],
   "source": [
    "def stringShift(s: str, shift) -> str:\n",
    "    n = len(s)\n",
    "    for sf in shift:\n",
    "        if sf[0] == 0:\n",
    "            ans = s[sf[1]:] + s[:sf[1]]\n",
    "        else:\n",
    "            ans = s[n - sf[1]:] + s[:n - sf[1]]\n",
    "        s = ans\n",
    "    return s"
   ]
  },
  {
   "cell_type": "code",
   "execution_count": 312,
   "metadata": {},
   "outputs": [
    {
     "data": {
      "text/plain": [
       "'redeborah and catherine are he'"
      ]
     },
     "execution_count": 312,
     "metadata": {},
     "output_type": "execute_result"
    }
   ],
   "source": [
    "s = 'deborah and catherine are here'\n",
    "shift = [[0,2], [1,4]]\n",
    "stringShift(s, shift)"
   ]
  },
  {
   "cell_type": "code",
   "execution_count": null,
   "metadata": {},
   "outputs": [],
   "source": []
  }
 ],
 "metadata": {
  "kernelspec": {
   "display_name": "Python 3",
   "language": "python",
   "name": "python3"
  },
  "language_info": {
   "codemirror_mode": {
    "name": "ipython",
    "version": 3
   },
   "file_extension": ".py",
   "mimetype": "text/x-python",
   "name": "python",
   "nbconvert_exporter": "python",
   "pygments_lexer": "ipython3",
   "version": "3.7.6"
  }
 },
 "nbformat": 4,
 "nbformat_minor": 4
}
