{
 "cells": [
  {
   "cell_type": "markdown",
   "metadata": {},
   "source": [
    "## Single Number"
   ]
  },
  {
   "cell_type": "code",
   "execution_count": 15,
   "metadata": {},
   "outputs": [],
   "source": [
    "from collections import defaultdict\n",
    "import numpy as np\n",
    "def singleNumber(nums: list) -> int:\n",
    "    d = defaultdict(lambda:0)\n",
    "    for n in nums:\n",
    "        d[n] += 1\n",
    "    for key in d:\n",
    "        if d[key] == 1:\n",
    "            return key"
   ]
  },
  {
   "cell_type": "code",
   "execution_count": 24,
   "metadata": {},
   "outputs": [
    {
     "data": {
      "text/plain": [
       "4"
      ]
     },
     "execution_count": 24,
     "metadata": {},
     "output_type": "execute_result"
    }
   ],
   "source": [
    "singleNumber([2,4,2,5,5])"
   ]
  },
  {
   "cell_type": "markdown",
   "metadata": {},
   "source": [
    "## HappyNumber"
   ]
  },
  {
   "cell_type": "code",
   "execution_count": 25,
   "metadata": {},
   "outputs": [],
   "source": [
    "def HappyNum(n):\n",
    "    Cycle = []\n",
    "    while n not in Cycle:\n",
    "        Cycle.append(n)\n",
    "        n = sum(map(lambda x: int(x)**2, str(n)))\n",
    "        if n == 1:\n",
    "            return True\n",
    "    return False"
   ]
  },
  {
   "cell_type": "code",
   "execution_count": 26,
   "metadata": {},
   "outputs": [
    {
     "data": {
      "text/plain": [
       "True"
      ]
     },
     "execution_count": 26,
     "metadata": {},
     "output_type": "execute_result"
    }
   ],
   "source": [
    "HappyNum(19)"
   ]
  },
  {
   "cell_type": "markdown",
   "metadata": {},
   "source": [
    "## Contingous subarray with maximum sum"
   ]
  },
  {
   "cell_type": "code",
   "execution_count": 27,
   "metadata": {},
   "outputs": [],
   "source": [
    "def maxSubArray(L):\n",
    "    loc = 0\n",
    "    best_so_far = 0\n",
    "    final_best = L[0]\n",
    "    while True:\n",
    "        best_so_far += L[loc]\n",
    "        final_best = max(final_best, best_so_far)\n",
    "        if loc < len(L)-1:\n",
    "            loc += 1\n",
    "        else:\n",
    "            break\n",
    "        if best_so_far < L[loc] and best_so_far<0:\n",
    "            best_so_far = 0       \n",
    "    return final_best"
   ]
  },
  {
   "cell_type": "code",
   "execution_count": 28,
   "metadata": {},
   "outputs": [
    {
     "data": {
      "text/plain": [
       "9"
      ]
     },
     "execution_count": 28,
     "metadata": {},
     "output_type": "execute_result"
    }
   ],
   "source": [
    "maxSubArray([-3,2,7,-4,2])"
   ]
  },
  {
   "cell_type": "markdown",
   "metadata": {},
   "source": [
    "## Move all zeros to the right"
   ]
  },
  {
   "cell_type": "code",
   "execution_count": 29,
   "metadata": {},
   "outputs": [],
   "source": [
    "def moveZeroes(L):\n",
    "    L [:] = list(filter(lambda x: x != 0, L)) + [0]*sum(map(lambda x: x == 0, L))"
   ]
  },
  {
   "cell_type": "code",
   "execution_count": 30,
   "metadata": {},
   "outputs": [
    {
     "data": {
      "text/plain": [
       "[1, 2, 4, 4, 0, 0, 0, 0]"
      ]
     },
     "execution_count": 30,
     "metadata": {},
     "output_type": "execute_result"
    }
   ],
   "source": [
    "L=[0,0,1,2,4,0,4,0]\n",
    "moveZeroes(L)\n",
    "L"
   ]
  },
  {
   "cell_type": "markdown",
   "metadata": {},
   "source": [
    "## Best time to buy and sell shares"
   ]
  },
  {
   "cell_type": "code",
   "execution_count": 31,
   "metadata": {},
   "outputs": [],
   "source": [
    "def maxProfit(L):\n",
    "    min_buy = 0\n",
    "    profit = 0\n",
    "    for i in range(0, len(L)-1):\n",
    "        if L[i] < L[min_buy]: min_buy = i\n",
    "        if L[i+1] > L[i]: profit += L[i+1]-L[i]\n",
    "        profit = max(profit, L[i]-L[min_buy])\n",
    "    return profit      "
   ]
  },
  {
   "cell_type": "code",
   "execution_count": 32,
   "metadata": {},
   "outputs": [],
   "source": [
    "L = [76,5,1,9]"
   ]
  },
  {
   "cell_type": "code",
   "execution_count": 33,
   "metadata": {},
   "outputs": [
    {
     "data": {
      "text/plain": [
       "8"
      ]
     },
     "execution_count": 33,
     "metadata": {},
     "output_type": "execute_result"
    }
   ],
   "source": [
    "maxProfit(L)"
   ]
  },
  {
   "cell_type": "markdown",
   "metadata": {},
   "source": [
    "## Group Anagrams"
   ]
  },
  {
   "cell_type": "code",
   "execution_count": 34,
   "metadata": {},
   "outputs": [],
   "source": [
    "def AnagramGroups(L):\n",
    "    d = defaultdict(lambda: [])\n",
    "    for gram in L:\n",
    "        d[str(sorted(gram))].append(gram)\n",
    "    return list(d.values())"
   ]
  },
  {
   "cell_type": "code",
   "execution_count": 35,
   "metadata": {},
   "outputs": [],
   "source": [
    "L = ['deb', 'bed', 'eat', 'tea','kill']"
   ]
  },
  {
   "cell_type": "code",
   "execution_count": 36,
   "metadata": {},
   "outputs": [
    {
     "data": {
      "text/plain": [
       "[['deb', 'bed'], ['eat', 'tea'], ['kill']]"
      ]
     },
     "execution_count": 36,
     "metadata": {},
     "output_type": "execute_result"
    }
   ],
   "source": [
    "AnagramGroups(L)"
   ]
  },
  {
   "cell_type": "markdown",
   "metadata": {},
   "source": [
    "## Counting elements"
   ]
  },
  {
   "cell_type": "code",
   "execution_count": 37,
   "metadata": {},
   "outputs": [],
   "source": [
    "def countElements(L):\n",
    "    return sum([n+1 in L for n in L])"
   ]
  },
  {
   "cell_type": "code",
   "execution_count": 38,
   "metadata": {},
   "outputs": [
    {
     "data": {
      "text/plain": [
       "3"
      ]
     },
     "execution_count": 38,
     "metadata": {},
     "output_type": "execute_result"
    }
   ],
   "source": [
    "countElements([3,2,1,4])"
   ]
  },
  {
   "cell_type": "markdown",
   "metadata": {},
   "source": [
    "## Middle of a linked list"
   ]
  },
  {
   "cell_type": "code",
   "execution_count": 39,
   "metadata": {},
   "outputs": [],
   "source": [
    " class ListNode:\n",
    "    def __init__(self, x):\n",
    "        self.val = x\n",
    "        self.next = None"
   ]
  },
  {
   "cell_type": "code",
   "execution_count": 40,
   "metadata": {},
   "outputs": [],
   "source": [
    "def middleNode(head):\n",
    "        current_ll = head\n",
    "        answer = head\n",
    "        while current_ll and current_ll.next:\n",
    "            current_ll = current_ll.next.next\n",
    "            answer = answer.next\n",
    "        return answer"
   ]
  },
  {
   "cell_type": "code",
   "execution_count": 41,
   "metadata": {},
   "outputs": [],
   "source": [
    "Ll = ListNode(1)\n",
    "current = Ll\n",
    "for i in range(2,10):\n",
    "    while current.next:\n",
    "        current = current.next\n",
    "    current.next = ListNode(i)"
   ]
  },
  {
   "cell_type": "code",
   "execution_count": 42,
   "metadata": {},
   "outputs": [
    {
     "data": {
      "text/plain": [
       "5"
      ]
     },
     "execution_count": 42,
     "metadata": {},
     "output_type": "execute_result"
    }
   ],
   "source": [
    "middleNode(Ll).val"
   ]
  },
  {
   "cell_type": "markdown",
   "metadata": {},
   "source": [
    "## Backspace String Compare"
   ]
  },
  {
   "cell_type": "code",
   "execution_count": 43,
   "metadata": {},
   "outputs": [],
   "source": [
    "def backspace(S,T):\n",
    "    s = ''\n",
    "    t = ''\n",
    "    idx1 = len(S)-1\n",
    "    idx2 = len(T)-1\n",
    "    c1 = 0\n",
    "    c2 = 0\n",
    "    while idx1 > 0 or idx2 > 0:\n",
    "        while idx1 > 0 and S[idx1] == '#':\n",
    "            c1 += 1\n",
    "            idx1 = idx1-1\n",
    "        while idx1 > 0 and S[idx1] != '#':\n",
    "            if c1 == 0:\n",
    "                s += S[idx1]\n",
    "            if c1 > 0:\n",
    "                c1 -= 1\n",
    "            idx1 -= 1\n",
    "        while idx2 > 0 and T[idx2] == '#':\n",
    "            c2 += 1\n",
    "            idx2 = idx2-1\n",
    "        while idx2 > 0 and T[idx2] != '#':\n",
    "            if c2 == 0:\n",
    "                t += T[idx2]\n",
    "            if c2 > 0:\n",
    "                c2 -= 1\n",
    "            idx2 -= 1\n",
    "    if c1 == 0 and S[0] != '#':\n",
    "        s += S[0]\n",
    "    if c2 == 0 and T[0] != '#':\n",
    "        t += T[0]\n",
    "        \n",
    "    print(s[::-1])\n",
    "    print(t[::-1])\n",
    "    return s == t"
   ]
  },
  {
   "cell_type": "code",
   "execution_count": 44,
   "metadata": {},
   "outputs": [],
   "source": [
    "S = \"y#fo##f\"\n",
    "T = \"y#fx#o##f\""
   ]
  },
  {
   "cell_type": "code",
   "execution_count": 45,
   "metadata": {},
   "outputs": [
    {
     "name": "stdout",
     "output_type": "stream",
     "text": [
      "f\n",
      "f\n"
     ]
    },
    {
     "data": {
      "text/plain": [
       "True"
      ]
     },
     "execution_count": 45,
     "metadata": {},
     "output_type": "execute_result"
    }
   ],
   "source": [
    "backspace(S,T)"
   ]
  },
  {
   "cell_type": "markdown",
   "metadata": {},
   "source": [
    "## Min Stack"
   ]
  },
  {
   "cell_type": "code",
   "execution_count": 46,
   "metadata": {},
   "outputs": [],
   "source": [
    "class MinStack:\n",
    "\n",
    "    def __init__(self):\n",
    "        \"\"\"\n",
    "        initialize your data structure here.\n",
    "        \"\"\"\n",
    "        self.data = []\n",
    "\n",
    "    def push(self, x: int) -> None:\n",
    "        self.data.append(x)\n",
    "        \n",
    "\n",
    "    def pop(self) -> None:\n",
    "        self.data.pop(-1)\n",
    "        \n",
    "\n",
    "    def top(self) -> int:\n",
    "        return self.data[-1]\n",
    "        \n",
    "\n",
    "    def getMin(self) -> int:\n",
    "        return min(self.data)\n",
    "        "
   ]
  },
  {
   "cell_type": "code",
   "execution_count": 47,
   "metadata": {},
   "outputs": [],
   "source": [
    "Obj = MinStack()"
   ]
  },
  {
   "cell_type": "code",
   "execution_count": 48,
   "metadata": {},
   "outputs": [
    {
     "data": {
      "text/plain": [
       "-7"
      ]
     },
     "execution_count": 48,
     "metadata": {},
     "output_type": "execute_result"
    }
   ],
   "source": [
    "for j in [-3,2,1,9.7,3,9,-7]:\n",
    "    Obj.push(j)\n",
    "Obj.getMin()\n",
    "Obj.top()"
   ]
  },
  {
   "cell_type": "code",
   "execution_count": 49,
   "metadata": {},
   "outputs": [
    {
     "data": {
      "text/plain": [
       "9"
      ]
     },
     "execution_count": 49,
     "metadata": {},
     "output_type": "execute_result"
    }
   ],
   "source": [
    "Obj.pop()\n",
    "Obj.top()"
   ]
  },
  {
   "cell_type": "markdown",
   "metadata": {},
   "source": [
    "## Diameter of a binary tree"
   ]
  },
  {
   "cell_type": "code",
   "execution_count": 50,
   "metadata": {},
   "outputs": [],
   "source": [
    "class TreeNode:\n",
    "    def __init__(self, x):\n",
    "        self.val = x\n",
    "        self.left = None\n",
    "        self.right = None"
   ]
  },
  {
   "cell_type": "code",
   "execution_count": 51,
   "metadata": {},
   "outputs": [],
   "source": [
    "Root = TreeNode(0)"
   ]
  },
  {
   "cell_type": "code",
   "execution_count": 52,
   "metadata": {},
   "outputs": [],
   "source": [
    "Left = [1,2,3,4,5,6,7]\n",
    "Right = [-1,-2,-3,-4,-5,-6,-7]"
   ]
  },
  {
   "cell_type": "code",
   "execution_count": null,
   "metadata": {},
   "outputs": [],
   "source": []
  },
  {
   "cell_type": "code",
   "execution_count": 53,
   "metadata": {},
   "outputs": [],
   "source": [
    "l = 0\n",
    "Queue = [Root]\n",
    "queue = []\n",
    "while l < len(Left):\n",
    "    while Queue:\n",
    "        p = Queue.pop(-1)\n",
    "        p.left, p.right = TreeNode(Left[l]), TreeNode(Right[l])\n",
    "        queue.extend([p.left, p.right])\n",
    "        l += 1\n",
    "        if l >= len(Left):\n",
    "            break\n",
    "    Queue.extend(queue)    "
   ]
  },
  {
   "cell_type": "code",
   "execution_count": 54,
   "metadata": {},
   "outputs": [],
   "source": [
    "def diameterOfBinaryTree(Root):\n",
    "    def height(node):\n",
    "        if not node:\n",
    "            return 0\n",
    "        return 1 + max(height(node.left), height(node.right))\n",
    "    if not Root:\n",
    "        return 0\n",
    "    return max(height(Root.left)+height(Root.right), max(diameterOfBinaryTree(Root.left), diameterOfBinaryTree(Root.right)))"
   ]
  },
  {
   "cell_type": "code",
   "execution_count": 55,
   "metadata": {},
   "outputs": [],
   "source": [
    "Root.right.left.left.right = TreeNode(-8)"
   ]
  },
  {
   "cell_type": "code",
   "execution_count": 56,
   "metadata": {},
   "outputs": [
    {
     "data": {
      "text/plain": [
       "7"
      ]
     },
     "execution_count": 56,
     "metadata": {},
     "output_type": "execute_result"
    }
   ],
   "source": [
    "diameterOfBinaryTree(Root)"
   ]
  },
  {
   "cell_type": "markdown",
   "metadata": {},
   "source": [
    "## Last stone weight"
   ]
  },
  {
   "cell_type": "code",
   "execution_count": 57,
   "metadata": {},
   "outputs": [],
   "source": [
    "def lastStoneWeight(stones) -> int:\n",
    "    if not stones[1:]:\n",
    "        return stones[0]\n",
    "    stones = sorted(stones)\n",
    "    while stones[1:]:\n",
    "        s1 = stones.pop(-1)\n",
    "        s2 = stones.pop(-1)\n",
    "        if s1 != s2:\n",
    "            id = 0\n",
    "            while id < len(stones) and stones[id] < s1-s2:\n",
    "                id += 1\n",
    "            stones.insert(id, s1-s2)\n",
    "    return stones[0] if stones else 0"
   ]
  },
  {
   "cell_type": "code",
   "execution_count": 58,
   "metadata": {},
   "outputs": [],
   "source": [
    "L = [3,2,8,2,7,1]"
   ]
  },
  {
   "cell_type": "code",
   "execution_count": 59,
   "metadata": {},
   "outputs": [
    {
     "data": {
      "text/plain": [
       "1"
      ]
     },
     "execution_count": 59,
     "metadata": {},
     "output_type": "execute_result"
    }
   ],
   "source": [
    "lastStoneWeight(L)"
   ]
  },
  {
   "cell_type": "markdown",
   "metadata": {},
   "source": [
    "## Maximum contiguous subarray length with equal number of 0's and 1's"
   ]
  },
  {
   "cell_type": "code",
   "execution_count": 60,
   "metadata": {},
   "outputs": [],
   "source": [
    "def findMaxLength(nums) -> int:\n",
    "    d = {}   \n",
    "    curr_sum = 0 \n",
    "    max_len = 0 \n",
    "    for i in range (len(nums)):  \n",
    "        curr_sum = curr_sum + 1 if nums[i] == 1 else curr_sum - 1 \n",
    "        if curr_sum == 0:\n",
    "                max_len = i+1\n",
    "        if curr_sum in d: \n",
    "            max_len = max(max_len, i - d[curr_sum])\n",
    "        else:\n",
    "            d[curr_sum] = i   \n",
    "    return max_len\n",
    "            "
   ]
  },
  {
   "cell_type": "code",
   "execution_count": 61,
   "metadata": {},
   "outputs": [],
   "source": [
    "L = [0,1,0,1,1,1,0,0,1,1,0,1,1,1,1,1,1,0,1,1,0,1,1,0,0,0,1,0,1,0,0,1,0,1,1,1,1,1,1,0,0,0,0,1,0,0,0,1,1,1,0,1,0,0,1,1,1,1,1,0,0,1,1,1,1,0,0,1,0,1,1,0,0,0,0,0,0,1,0,1,0,1,1,0,0,1,1,0,1,1,1,1,0,1,1,0,0,0,1,1]"
   ]
  },
  {
   "cell_type": "code",
   "execution_count": 62,
   "metadata": {},
   "outputs": [
    {
     "data": {
      "text/plain": [
       "68"
      ]
     },
     "execution_count": 62,
     "metadata": {},
     "output_type": "execute_result"
    }
   ],
   "source": [
    "findMaxLength(L)"
   ]
  },
  {
   "cell_type": "markdown",
   "metadata": {},
   "source": [
    "## Performing string shifts"
   ]
  },
  {
   "cell_type": "code",
   "execution_count": 63,
   "metadata": {},
   "outputs": [],
   "source": [
    "def stringShift(s: str, shift) -> str:\n",
    "    n = len(s)\n",
    "    for sf in shift:\n",
    "        if sf[0] == 0:\n",
    "            ans = s[sf[1]:] + s[:sf[1]]\n",
    "        else:\n",
    "            ans = s[n - sf[1]:] + s[:n - sf[1]]\n",
    "        s = ans\n",
    "    return s"
   ]
  },
  {
   "cell_type": "code",
   "execution_count": 64,
   "metadata": {},
   "outputs": [
    {
     "data": {
      "text/plain": [
       "'redeborah and catherine are he'"
      ]
     },
     "execution_count": 64,
     "metadata": {},
     "output_type": "execute_result"
    }
   ],
   "source": [
    "s = 'deborah and catherine are here'\n",
    "shift = [[0,2], [1,4]]\n",
    "stringShift(s, shift)"
   ]
  },
  {
   "cell_type": "markdown",
   "metadata": {},
   "source": [
    "## Product of array except self"
   ]
  },
  {
   "cell_type": "code",
   "execution_count": 65,
   "metadata": {},
   "outputs": [],
   "source": [
    "import numpy as np"
   ]
  },
  {
   "cell_type": "code",
   "execution_count": 66,
   "metadata": {},
   "outputs": [],
   "source": [
    "def productExceptSelf(nums):\n",
    "    n = len(nums)\n",
    "    ans = np.ones(n, dtype=int)\n",
    "    for i in range(n):\n",
    "        if i > 0 and i < n-1:\n",
    "            ans[:i] *= nums[i]\n",
    "            ans[i+1:] *= nums[i]\n",
    "        elif i == 0:\n",
    "            ans[i+1:] *= nums[i]\n",
    "        elif i == n-1:\n",
    "            ans[:i] *= nums[i]\n",
    "    return list(ans)"
   ]
  },
  {
   "cell_type": "code",
   "execution_count": 67,
   "metadata": {},
   "outputs": [],
   "source": [
    "nums = [2,4,1,7]"
   ]
  },
  {
   "cell_type": "code",
   "execution_count": 68,
   "metadata": {},
   "outputs": [
    {
     "data": {
      "text/plain": [
       "[28, 14, 56, 8]"
      ]
     },
     "execution_count": 68,
     "metadata": {},
     "output_type": "execute_result"
    }
   ],
   "source": [
    "productExceptSelf(nums)"
   ]
  },
  {
   "cell_type": "markdown",
   "metadata": {},
   "source": [
    "## Valid Parenthesis String"
   ]
  },
  {
   "cell_type": "code",
   "execution_count": 69,
   "metadata": {},
   "outputs": [],
   "source": [
    "def checkValidString(s: str) -> bool:\n",
    "    if s == '*':\n",
    "        return True\n",
    "    max_op = 0\n",
    "    min_op = 0\n",
    "    for c in s:\n",
    "        min_op += 1 if c == '(' else -1\n",
    "        max_op += 1 if c != ')' else -1\n",
    "        if max_op<0:\n",
    "            return False\n",
    "        min_op = max(min_op, 0)\n",
    "    return min_op == 0"
   ]
  },
  {
   "cell_type": "code",
   "execution_count": 70,
   "metadata": {},
   "outputs": [],
   "source": [
    "s1 = \"(*()*(\"\n",
    "s2 = \"(*)*)(*\""
   ]
  },
  {
   "cell_type": "code",
   "execution_count": 71,
   "metadata": {},
   "outputs": [
    {
     "data": {
      "text/plain": [
       "False"
      ]
     },
     "execution_count": 71,
     "metadata": {},
     "output_type": "execute_result"
    }
   ],
   "source": [
    "checkValidString(s1)"
   ]
  },
  {
   "cell_type": "code",
   "execution_count": 72,
   "metadata": {},
   "outputs": [
    {
     "data": {
      "text/plain": [
       "True"
      ]
     },
     "execution_count": 72,
     "metadata": {},
     "output_type": "execute_result"
    }
   ],
   "source": [
    "checkValidString(s2)"
   ]
  },
  {
   "cell_type": "markdown",
   "metadata": {},
   "source": [
    "## Number of Islands"
   ]
  },
  {
   "cell_type": "code",
   "execution_count": 73,
   "metadata": {},
   "outputs": [],
   "source": [
    "def numIslands(grid) -> int:\n",
    "        if len(grid) == 0:\n",
    "            return 0\n",
    "        def merge_grid(i,j,grid):\n",
    "            if i >= len(grid) or i <0 or j >= len(grid[0]) or j < 0 or grid[i][j] != 1:\n",
    "                return\n",
    "            grid[i][j] = 0\n",
    "            merge_grid(i-1, j, grid)\n",
    "            merge_grid(i+1, j, grid)\n",
    "            merge_grid(i, j-1, grid)\n",
    "            merge_grid(i, j+1, grid)\n",
    "        n = len(grid)\n",
    "        m = len(grid[0])\n",
    "        num_islands = 0\n",
    "        for i in range(n):\n",
    "            for j in range(m):\n",
    "                if grid[i][j] == 1:\n",
    "                    num_islands += 1\n",
    "                    merge_grid(i,j,grid)\n",
    "        return num_islands\n",
    "        "
   ]
  },
  {
   "cell_type": "code",
   "execution_count": 74,
   "metadata": {},
   "outputs": [],
   "source": [
    "grid1 = [[1,1,1,1,0],\n",
    "         [1,1,0,1,0],\n",
    "         [1,1,0,0,0],\n",
    "         [0,0,0,0,0]\n",
    "]\n",
    "grid2 = [[1,1,0,0,0],\n",
    "         [1,1,0,0,0],\n",
    "         [0,0,1,0,0],\n",
    "         [0,0,0,1,1]\n",
    "        ]"
   ]
  },
  {
   "cell_type": "code",
   "execution_count": 75,
   "metadata": {},
   "outputs": [
    {
     "data": {
      "text/plain": [
       "1"
      ]
     },
     "execution_count": 75,
     "metadata": {},
     "output_type": "execute_result"
    }
   ],
   "source": [
    "numIslands(grid1)"
   ]
  },
  {
   "cell_type": "code",
   "execution_count": 76,
   "metadata": {},
   "outputs": [
    {
     "data": {
      "text/plain": [
       "3"
      ]
     },
     "execution_count": 76,
     "metadata": {},
     "output_type": "execute_result"
    }
   ],
   "source": [
    "numIslands(grid2)"
   ]
  },
  {
   "cell_type": "markdown",
   "metadata": {},
   "source": [
    "## Minimum Sum Path"
   ]
  },
  {
   "cell_type": "code",
   "execution_count": 77,
   "metadata": {},
   "outputs": [],
   "source": [
    "def minPathSum(grid):\n",
    "    if len(grid) == 0:\n",
    "        return 0\n",
    "    dyn_prog = [[0] * len(grid[0])] * len(grid)\n",
    "    dyn_prog[0][0] = grid[0][0]\n",
    "    for i in range(len(grid)):\n",
    "        if i > 0:\n",
    "            dyn_prog[i][0] = dyn_prog[i - 1][0] + grid[i][0]\n",
    "        for j in range(1, len(grid[0])):\n",
    "            if i == 0:\n",
    "                dyn_prog[i][j] = dyn_prog[i][j - 1] + grid[i][j]\n",
    "            else:\n",
    "                dyn_prog[i][j] = min(dyn_prog[i][j - 1], dyn_prog[i - 1][j]) + grid[i][j]\n",
    "    return dyn_prog[-1][-1]"
   ]
  },
  {
   "cell_type": "code",
   "execution_count": 78,
   "metadata": {},
   "outputs": [],
   "source": [
    "grid3 = [\n",
    "  [1,3,1],\n",
    "  [1,5,1],\n",
    "  [4,2,1]\n",
    "]"
   ]
  },
  {
   "cell_type": "code",
   "execution_count": 79,
   "metadata": {},
   "outputs": [],
   "source": [
    "grid4 = [\n",
    "  [1,3,1],\n",
    "  [1,5,7],\n",
    "  [4,2,1]\n",
    "]"
   ]
  },
  {
   "cell_type": "code",
   "execution_count": 80,
   "metadata": {},
   "outputs": [
    {
     "data": {
      "text/plain": [
       "7"
      ]
     },
     "execution_count": 80,
     "metadata": {},
     "output_type": "execute_result"
    }
   ],
   "source": [
    "minPathSum(grid3)"
   ]
  },
  {
   "cell_type": "code",
   "execution_count": 81,
   "metadata": {},
   "outputs": [
    {
     "data": {
      "text/plain": [
       "9"
      ]
     },
     "execution_count": 81,
     "metadata": {},
     "output_type": "execute_result"
    }
   ],
   "source": [
    "minPathSum(grid4)"
   ]
  },
  {
   "cell_type": "markdown",
   "metadata": {},
   "source": [
    "## Search in rotated Sorted Array"
   ]
  },
  {
   "cell_type": "code",
   "execution_count": 82,
   "metadata": {},
   "outputs": [],
   "source": [
    "def search(nums, target: int) -> int:\n",
    "        return nums.index(target) if target in nums else -1"
   ]
  },
  {
   "cell_type": "code",
   "execution_count": 83,
   "metadata": {},
   "outputs": [],
   "source": [
    "L = [5,6,7,0,1,2,3,4]"
   ]
  },
  {
   "cell_type": "code",
   "execution_count": 84,
   "metadata": {},
   "outputs": [
    {
     "data": {
      "text/plain": [
       "6"
      ]
     },
     "execution_count": 84,
     "metadata": {},
     "output_type": "execute_result"
    }
   ],
   "source": [
    "search(L, target=3)"
   ]
  },
  {
   "cell_type": "markdown",
   "metadata": {},
   "source": [
    "## Construct Binary Search Tree from Preorder Traversal"
   ]
  },
  {
   "cell_type": "code",
   "execution_count": 85,
   "metadata": {},
   "outputs": [],
   "source": [
    "class TreeNode:\n",
    "    def __init__(self, x):\n",
    "        self.val = x\n",
    "        self.left = None\n",
    "        self.right = None\n",
    "        \n",
    "def bstFromPreorder(preorder) -> TreeNode:\n",
    "        root = TreeNode(preorder[0])\n",
    "        Stack = [root]\n",
    "        for value in preorder[1:]:\n",
    "            if value < Stack[-1].val:\n",
    "                Stack[-1].left = TreeNode(value)\n",
    "                Stack.append(Stack[-1].left)\n",
    "            else:\n",
    "                while Stack and Stack[-1].val < value:\n",
    "                    last = Stack.pop()\n",
    "                last.right = TreeNode(value)\n",
    "                Stack.append(last.right)\n",
    "        return root\n",
    "        "
   ]
  },
  {
   "cell_type": "code",
   "execution_count": 86,
   "metadata": {},
   "outputs": [],
   "source": [
    "L = [5,6,7,0,1,2,3,4]"
   ]
  },
  {
   "cell_type": "code",
   "execution_count": 87,
   "metadata": {},
   "outputs": [
    {
     "data": {
      "text/plain": [
       "0"
      ]
     },
     "execution_count": 87,
     "metadata": {},
     "output_type": "execute_result"
    }
   ],
   "source": [
    "bstFromPreorder(L).right.right.left.val"
   ]
  },
  {
   "cell_type": "markdown",
   "metadata": {},
   "source": [
    "## Leftmost Column with at Least a One"
   ]
  },
  {
   "cell_type": "code",
   "execution_count": 88,
   "metadata": {},
   "outputs": [],
   "source": [
    "class BinaryMatrix(object):\n",
    "    def get(self, x: int, y: int) -> int:\n",
    "        pass\n",
    "    def dimensions(self):\n",
    "        pass\n",
    "\n",
    "def leftMostColumnWithOne(binaryMatrix) -> int:\n",
    "        n,m = binaryMatrix.dimensions()\n",
    "        i, j = n-1, m-1\n",
    "        while (i>=0 and j>=0):\n",
    "            if binaryMatrix.get(i,j)==0: i -= 1\n",
    "            else: j -= 1\n",
    "            \n",
    "        return -1 if j == m-1  else j+1"
   ]
  },
  {
   "cell_type": "code",
   "execution_count": null,
   "metadata": {},
   "outputs": [],
   "source": []
  },
  {
   "cell_type": "code",
   "execution_count": 89,
   "metadata": {},
   "outputs": [],
   "source": [
    " def subarraySum(nums, k: int) -> int:\n",
    "        count = 0\n",
    "        acc_sum = 0\n",
    "        d = defaultdict(lambda:0)\n",
    "        d[0] = 1\n",
    "        for num in nums:\n",
    "            acc_sum += num\n",
    "            count += d[acc_sum - k]\n",
    "            d[acc_sum] += 1\n",
    "        return count"
   ]
  },
  {
   "cell_type": "code",
   "execution_count": 92,
   "metadata": {},
   "outputs": [],
   "source": [
    "L=np.array([3,4,3,2,5])"
   ]
  },
  {
   "cell_type": "code",
   "execution_count": 93,
   "metadata": {},
   "outputs": [
    {
     "data": {
      "text/plain": [
       "2"
      ]
     },
     "execution_count": 93,
     "metadata": {},
     "output_type": "execute_result"
    }
   ],
   "source": [
    "subarraySum(L, 5)"
   ]
  },
  {
   "cell_type": "markdown",
   "metadata": {},
   "source": [
    "## Bitwise AND of Numbers Range"
   ]
  },
  {
   "cell_type": "code",
   "execution_count": 104,
   "metadata": {},
   "outputs": [],
   "source": [
    "def rangeBitwiseAnd(m, n):\n",
    "        k = 0\n",
    "        while True:\n",
    "            if n > m:\n",
    "                k += 1\n",
    "            else:\n",
    "                return m<<k\n",
    "            m = m >> 1\n",
    "            n = n >> 1"
   ]
  },
  {
   "cell_type": "markdown",
   "metadata": {},
   "source": [
    "## LRU Cache"
   ]
  },
  {
   "cell_type": "code",
   "execution_count": null,
   "metadata": {},
   "outputs": [],
   "source": [
    "import collections\n",
    "\n",
    "class LRUCache:\n",
    "    def __init__(self, capacity):\n",
    "        self.capacity = capacity\n",
    "        self.cache = collections.OrderedDict()\n",
    "\n",
    "    def get(self, key):\n",
    "        try:\n",
    "            value = self.cache.pop(key)\n",
    "            self.cache[key] = value\n",
    "            return value\n",
    "        except KeyError:\n",
    "            return -1\n",
    "\n",
    "    def put(self, key, value):\n",
    "        try:\n",
    "            self.cache.pop(key)\n",
    "        except KeyError:\n",
    "            if len(self.cache) >= self.capacity:\n",
    "                self.cache.popitem(last=False)\n",
    "        self.cache[key] = value\n"
   ]
  },
  {
   "cell_type": "markdown",
   "metadata": {},
   "source": [
    "## Jump Game"
   ]
  },
  {
   "cell_type": "code",
   "execution_count": 1,
   "metadata": {},
   "outputs": [],
   "source": [
    "def canJump(nums) -> bool:\n",
    "        if not nums[1:]:\n",
    "            return True\n",
    "        max_jump = nums[0]\n",
    "        for i in range(len(nums)):\n",
    "            if max_jump <= i and nums[i] == 0:\n",
    "                return False\n",
    "            max_jump = max(max_jump, i + nums[i])\n",
    "            if max_jump >= len(nums)-1:\n",
    "                return True\n",
    "        return False"
   ]
  },
  {
   "cell_type": "code",
   "execution_count": 4,
   "metadata": {},
   "outputs": [],
   "source": [
    "L1 = [2,4,0,3,4,9]"
   ]
  },
  {
   "cell_type": "code",
   "execution_count": 5,
   "metadata": {},
   "outputs": [
    {
     "data": {
      "text/plain": [
       "True"
      ]
     },
     "execution_count": 5,
     "metadata": {},
     "output_type": "execute_result"
    }
   ],
   "source": [
    "canJump(L1)"
   ]
  },
  {
   "cell_type": "code",
   "execution_count": 6,
   "metadata": {},
   "outputs": [],
   "source": [
    "L2 = [1,1,0,3,4,9]"
   ]
  },
  {
   "cell_type": "code",
   "execution_count": 7,
   "metadata": {},
   "outputs": [
    {
     "data": {
      "text/plain": [
       "False"
      ]
     },
     "execution_count": 7,
     "metadata": {},
     "output_type": "execute_result"
    }
   ],
   "source": [
    "canJump(L2)"
   ]
  },
  {
   "cell_type": "code",
   "execution_count": 8,
   "metadata": {},
   "outputs": [],
   "source": [
    "def longestCommonSubsequence(text1: str, text2: str) -> int:\n",
    "        dp = [[0] * (len(text1) + 1) for _ in range(len(text2) + 1)]\n",
    "        for i in range(1, len(text2) + 1):\n",
    "            for j in range(1, len(text1) + 1):\n",
    "                if text2[i-1] == text1[j-1]: \n",
    "                    dp[i][j] = dp[i-1][j-1] + 1\n",
    "                else:\n",
    "                    dp[i][j] = max(dp[i-1][j], dp[i][j-1])\n",
    "        return dp[-1][-1]"
   ]
  },
  {
   "cell_type": "code",
   "execution_count": 11,
   "metadata": {},
   "outputs": [],
   "source": [
    "text1 = 'Je sui a la maison'\n",
    "text2 = 'Comment tu vas?'"
   ]
  },
  {
   "cell_type": "code",
   "execution_count": 10,
   "metadata": {},
   "outputs": [
    {
     "data": {
      "text/plain": [
       "6"
      ]
     },
     "execution_count": 10,
     "metadata": {},
     "output_type": "execute_result"
    }
   ],
   "source": [
    "longestCommonSubsequence(text1, text2)"
   ]
  },
  {
   "cell_type": "code",
   "execution_count": null,
   "metadata": {},
   "outputs": [],
   "source": []
  },
  {
   "cell_type": "code",
   "execution_count": 12,
   "metadata": {},
   "outputs": [],
   "source": [
    "def maximalSquare(matrix) -> int:\n",
    "        if not matrix:\n",
    "            return 0\n",
    "        size = 0\n",
    "        matrix = np.array(matrix, dtype = int)\n",
    "        m, n = len(matrix), len(matrix[0])\n",
    "        i = 0\n",
    "        current_size = 1\n",
    "        while i < m - size:\n",
    "            j = 0\n",
    "            while j < n - size:\n",
    "                k = 1\n",
    "                while matrix[i:i+current_size, j:j+current_size].sum() == current_size**2:\n",
    "                    current_size += 1\n",
    "                size = max(size, current_size-1)\n",
    "                j += 1\n",
    "            i += 1\n",
    "        return size**2"
   ]
  },
  {
   "cell_type": "code",
   "execution_count": 13,
   "metadata": {},
   "outputs": [],
   "source": [
    "L = [['1', '1', '0'], ['1', '1', '0'], ['1', '1', '0'], ['0', '1', '0']]"
   ]
  },
  {
   "cell_type": "code",
   "execution_count": 16,
   "metadata": {},
   "outputs": [
    {
     "data": {
      "text/plain": [
       "4"
      ]
     },
     "execution_count": 16,
     "metadata": {},
     "output_type": "execute_result"
    }
   ],
   "source": [
    "maximalSquare(L)"
   ]
  },
  {
   "cell_type": "code",
   "execution_count": 1,
   "metadata": {},
   "outputs": [],
   "source": [
    "from collections import Counter\n",
    "class FirstUnique():\n",
    "    def __init__(self, nums):\n",
    "            self.queue_dict = Counter(nums)\n",
    "\n",
    "\n",
    "    def showFirstUnique(self) -> int:\n",
    "        for e in self.queue_dict:\n",
    "            if  self.queue_dict[e] == 1:\n",
    "                return e\n",
    "        return -1\n",
    "\n",
    "    def add(self, value: int) -> None:\n",
    "        self.queue_dict.update([value])"
   ]
  },
  {
   "cell_type": "code",
   "execution_count": 2,
   "metadata": {},
   "outputs": [],
   "source": [
    "L = [4,3,2,4,6,5,4,2,3]\n",
    "Solution = FirstUnique(L)"
   ]
  },
  {
   "cell_type": "code",
   "execution_count": 3,
   "metadata": {},
   "outputs": [
    {
     "data": {
      "text/plain": [
       "6"
      ]
     },
     "execution_count": 3,
     "metadata": {},
     "output_type": "execute_result"
    }
   ],
   "source": [
    "Solution.showFirstUnique()"
   ]
  },
  {
   "cell_type": "code",
   "execution_count": null,
   "metadata": {},
   "outputs": [],
   "source": []
  }
 ],
 "metadata": {
  "kernelspec": {
   "display_name": "Python 3",
   "language": "python",
   "name": "python3"
  },
  "language_info": {
   "codemirror_mode": {
    "name": "ipython",
    "version": 3
   },
   "file_extension": ".py",
   "mimetype": "text/x-python",
   "name": "python",
   "nbconvert_exporter": "python",
   "pygments_lexer": "ipython3",
   "version": "3.7.6"
  }
 },
 "nbformat": 4,
 "nbformat_minor": 4
}
